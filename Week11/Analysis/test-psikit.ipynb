{
 "cells": [
  {
   "cell_type": "code",
   "execution_count": 2,
   "metadata": {},
   "outputs": [],
   "source": [
    "import numpy as np\n",
    "import matplotlib.pyplot as plt\n",
    "import os\n",
    "os.chdir('/home/ch3859/comp-class/comp-lab-class/Week11/')\n",
    "from psikit import Psikit"
   ]
  },
  {
   "cell_type": "code",
   "execution_count": 3,
   "metadata": {},
   "outputs": [
    {
     "name": "stdout",
     "output_type": "stream",
     "text": [
      "\n",
      "  Memory set to  11.176 GiB by Python driver.\n",
      "  Threads set to 1 by Python driver.\n",
      "SCF Energy:  -230.71227965267587\n",
      "HOMO:  -0.32848520376992946\n",
      "LUMO:  0.14565220772826254\n",
      "SCF Total Dipole Moment: 0.0\n"
     ]
    }
   ],
   "source": [
    "# Single point calculation\n",
    "\n",
    "pk=Psikit(debug=True,threads=1,memory=12)\n",
    "pk.read_from_smiles(\"c1ccccc1\")\n",
    "print(\"SCF Energy: \", pk.energy())\n",
    "print(\"HOMO: \", pk.HOMO)\n",
    "print(\"LUMO: \", pk.LUMO)\n",
    "x, y, z, total = pk.dipolemoment\n",
    "print(\"SCF Total Dipole Moment: {}\".format(total))"
   ]
  },
  {
   "cell_type": "code",
   "execution_count": 4,
   "metadata": {},
   "outputs": [
    {
     "name": "stdout",
     "output_type": "stream",
     "text": [
      "Optimizer: Optimization complete!\n",
      "Optimized SCF Energy:  -230.7135235422025\n"
     ]
    }
   ],
   "source": [
    "# structure optimization\n",
    "\n",
    "pk=Psikit(debug=True,threads=1,memory=12)\n",
    "pk.read_from_smiles(\"c1ccccc1\")\n",
    "print(\"Optimized SCF Energy: \", pk.optimize())"
   ]
  },
  {
   "cell_type": "code",
   "execution_count": 5,
   "metadata": {},
   "outputs": [
    {
     "name": "stdout",
     "output_type": "stream",
     "text": [
      "Optimizer: Optimization complete!\n"
     ]
    },
    {
     "data": {
      "text/plain": [
       "array([-0.26657463,  0.80609514, -0.60321682, -0.66462636,  0.0912277 ,\n",
       "        0.0912277 ,  0.0912277 ,  0.45463958])"
      ]
     },
     "execution_count": 5,
     "metadata": {},
     "output_type": "execute_result"
    }
   ],
   "source": [
    "# calculate RESP charges\n",
    "\n",
    "pk=Psikit(debug=True,threads=1,memory=12)\n",
    "pk.read_from_smiles(\"CC(=O)O\")\n",
    "pk.optimize()\n",
    "pk.calc_resp_charges()"
   ]
  },
  {
   "cell_type": "code",
   "execution_count": 6,
   "metadata": {},
   "outputs": [
    {
     "name": "stdout",
     "output_type": "stream",
     "text": [
      "C ESP:-0.28288260003115817\tRESP:-0.26657462937414306\n",
      "C ESP:0.80609513593864912\tRESP:0.80609513593864912\n",
      "O ESP:-0.60321681619563994\tRESP:-0.60321681619563994\n",
      "O ESP:-0.66462636173534551\tRESP:-0.66462636173534539\n",
      "H ESP:0.096663686710498853\tRESP:0.091227696491493773\n",
      "H ESP:0.096663686710498853\tRESP:0.091227696491493773\n",
      "H ESP:0.096663686710498853\tRESP:0.091227696491493773\n",
      "H ESP:0.45463958189199799\tRESP:0.45463958189199793\n"
     ]
    }
   ],
   "source": [
    "for atom in pk.mol.GetAtoms(): \n",
    "    print(atom.GetSymbol(), \"ESP:{}\\tRESP:{}\".format(atom.GetProp(\"EP\"), atom.GetProp(\"RESP\"))) "
   ]
  },
  {
   "cell_type": "code",
   "execution_count": 7,
   "metadata": {},
   "outputs": [
    {
     "name": "stdout",
     "output_type": "stream",
     "text": [
      "Optimizer: Optimization complete!\n"
     ]
    },
    {
     "data": {
      "text/plain": [
       "array([-0.41265361,  0.71986584, -0.55390596, -0.58970616,  0.16215402,\n",
       "        0.1567987 ,  0.15674272,  0.36070445])"
      ]
     },
     "execution_count": 7,
     "metadata": {},
     "output_type": "execute_result"
    }
   ],
   "source": [
    "# Compute Mulliken charges and Lowdin charges\n",
    "\n",
    "pk=Psikit(debug=True,threads=1,memory=12)\n",
    "pk.read_from_smiles(\"CC(=O)O\")\n",
    "pk.optimize() # or pk.energy()\n",
    "\n",
    "pk.calc_mulliken_charges()"
   ]
  },
  {
   "cell_type": "code",
   "execution_count": 8,
   "metadata": {},
   "outputs": [
    {
     "data": {
      "text/plain": [
       "array([-0.29413439,  0.33178749, -0.34961791, -0.29234543,  0.12067824,\n",
       "        0.12156136,  0.12482943,  0.23724121])"
      ]
     },
     "execution_count": 8,
     "metadata": {},
     "output_type": "execute_result"
    }
   ],
   "source": [
    "pk.calc_lowdin_charges()"
   ]
  },
  {
   "cell_type": "code",
   "execution_count": null,
   "metadata": {},
   "outputs": [],
   "source": [
    "# Rendering Molecular Orbitals\n",
    "\n",
    "pk=Psikit(debug=True,threads=1,memory=12)\n",
    "pk.read_from_smiles(\"c1ccccc1\")\n",
    "pk.optimize(basis_sets=\"scf/sto-3g\")\n",
    "pk.view_on_pymol() # launch pymol as a RPC server in advance, just type \"pymol -R\""
   ]
  },
  {
   "cell_type": "code",
   "execution_count": null,
   "metadata": {},
   "outputs": [],
   "source": []
  }
 ],
 "metadata": {
  "kernelspec": {
   "display_name": "Python 3.9.12 64-bit",
   "language": "python",
   "name": "python3"
  },
  "language_info": {
   "codemirror_mode": {
    "name": "ipython",
    "version": 3
   },
   "file_extension": ".py",
   "mimetype": "text/x-python",
   "name": "python",
   "nbconvert_exporter": "python",
   "pygments_lexer": "ipython3",
   "version": "3.9.12"
  },
  "orig_nbformat": 4,
  "vscode": {
   "interpreter": {
    "hash": "875bb2c02475c46621be164f4e928478bb80708aa0939402a1d530b1c7f57877"
   }
  }
 },
 "nbformat": 4,
 "nbformat_minor": 2
}
