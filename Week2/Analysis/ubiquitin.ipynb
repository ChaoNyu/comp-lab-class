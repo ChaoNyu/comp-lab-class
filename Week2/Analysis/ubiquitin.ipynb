{
 "cells": [
  {
   "cell_type": "code",
   "execution_count": 2,
   "metadata": {},
   "outputs": [],
   "source": [
    "import numpy as np\n",
    "import matplotlib.pyplot as plt\n",
    "import mdtraj as md\n",
    "import os\n",
    "os.chdir('/home/ch3859/comp-class/comp-lab-class/Week2/Analysis/')"
   ]
  },
  {
   "cell_type": "code",
   "execution_count": 3,
   "metadata": {},
   "outputs": [],
   "source": [
    "# read in the ubiquitin structure\n",
    "ubq_pdb = md.load_pdb('../Data/1UBQ_processed.pdb')"
   ]
  },
  {
   "cell_type": "code",
   "execution_count": 5,
   "metadata": {},
   "outputs": [
    {
     "name": "stdout",
     "output_type": "stream",
     "text": [
      "total number of hbonds:  57\n"
     ]
    }
   ],
   "source": [
    "# print the total number of hydrogen bonds\n",
    "hbonds = md.baker_hubbard(ubq_pdb, periodic=False)\n",
    "print('total number of hbonds: ', len(hbonds))"
   ]
  },
  {
   "cell_type": "code",
   "execution_count": 11,
   "metadata": {},
   "outputs": [
    {
     "name": "stdout",
     "output_type": "stream",
     "text": [
      "number of helical residues:  18\n"
     ]
    }
   ],
   "source": [
    "# compute the number of helical amino acids\n",
    "dssp = md.compute_dssp(ubq_pdb)\n",
    "print('number of helical residues: ', np.sum(dssp == 'H'))"
   ]
  }
 ],
 "metadata": {
  "kernelspec": {
   "display_name": "Python 3.9.12 64-bit",
   "language": "python",
   "name": "python3"
  },
  "language_info": {
   "codemirror_mode": {
    "name": "ipython",
    "version": 3
   },
   "file_extension": ".py",
   "mimetype": "text/x-python",
   "name": "python",
   "nbconvert_exporter": "python",
   "pygments_lexer": "ipython3",
   "version": "3.9.12"
  },
  "orig_nbformat": 4,
  "vscode": {
   "interpreter": {
    "hash": "875bb2c02475c46621be164f4e928478bb80708aa0939402a1d530b1c7f57877"
   }
  }
 },
 "nbformat": 4,
 "nbformat_minor": 2
}
