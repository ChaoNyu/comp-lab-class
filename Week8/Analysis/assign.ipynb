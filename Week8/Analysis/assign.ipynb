{
 "cells": [
  {
   "cell_type": "code",
   "execution_count": 1,
   "metadata": {},
   "outputs": [],
   "source": [
    "import numpy as np\n",
    "import matplotlib.pyplot as plt\n",
    "import mdtraj as md\n",
    "import os\n",
    "os.chdir('/home/ch3859/comp-class/comp-lab-class/Week8/')"
   ]
  },
  {
   "cell_type": "markdown",
   "metadata": {},
   "source": [
    "`source /scratch/work/courses/CHEM-GA-2671-2022fa/software/lammps-gcc-30Oct2022/setup_lammps.bash`"
   ]
  },
  {
   "cell_type": "markdown",
   "metadata": {},
   "source": [
    "TODO: 3dWCA 1.5 not _FINISHED\n",
    "\n",
    "ERROR: Lost atoms: original 2048 current 2042 (src/thermo.cpp:481)"
   ]
  }
 ],
 "metadata": {
  "kernelspec": {
   "display_name": "Python 3.9.12 64-bit",
   "language": "python",
   "name": "python3"
  },
  "language_info": {
   "codemirror_mode": {
    "name": "ipython",
    "version": 3
   },
   "file_extension": ".py",
   "mimetype": "text/x-python",
   "name": "python",
   "nbconvert_exporter": "python",
   "pygments_lexer": "ipython3",
   "version": "3.9.12"
  },
  "orig_nbformat": 4,
  "vscode": {
   "interpreter": {
    "hash": "875bb2c02475c46621be164f4e928478bb80708aa0939402a1d530b1c7f57877"
   }
  }
 },
 "nbformat": 4,
 "nbformat_minor": 2
}
